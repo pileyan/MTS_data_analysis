{
 "cells": [
  {
   "cell_type": "markdown",
   "id": "d9de5527",
   "metadata": {},
   "source": [
    "# Блок 1\n",
    "\n",
    "Воспользовавшись [данными](https://www.kaggle.com/datasets/rodolfofigueroa/spotify-12m-songs/code) и удобными для вас библиотеками для рисования/обработки датафреймов ответьте на список вопросов, аргументировав свою позицию.\n",
    "\n",
    "\n",
    "1. Можно ли по данным датасета спотифай сказать, что музыкальные композиции с 90х годов стали сложнее или проще\n",
    "\n",
    "2. Коррелирует ли характер тональности с темпом\n",
    "\n",
    "3. (valence - Measures how positive a track sounds, from 1 to 0) - как коррелирует с характером(мажор/минор) тональности и коррелирует ли\n",
    "\n",
    "4. Можно ли сказать, что за последнее время ключи тональностей (key) стали менее/более разнообразными\n",
    "\n",
    "5. Какое совместное влияние оказывают факторы tempo, mode и loudness на показатель valence\n"
   ]
  },
  {
   "cell_type": "code",
   "execution_count": null,
   "id": "7cf15026",
   "metadata": {},
   "outputs": [],
   "source": []
  },
  {
   "cell_type": "markdown",
   "id": "62c0fe00",
   "metadata": {},
   "source": [
    "Блок 2\n",
    "\n",
    "Воспользовавшись данными с сайта о продаже музыкальных инструментов и удобными для вас библиотеками для рисования/обработки датафреймов ответьте на список вопросов, аргументировав свою позицию.\n",
    "\n",
    "\n",
    "1. Какие факторы влияют на цену инструмента и как?\n",
    "\n",
    "2. Можно ли разделить объявления на какие-то явно разде"
   ]
  },
  {
   "cell_type": "code",
   "execution_count": null,
   "id": "8ce318c5",
   "metadata": {},
   "outputs": [],
   "source": []
  }
 ],
 "metadata": {
  "kernelspec": {
   "display_name": "Python 3 (ipykernel)",
   "language": "python",
   "name": "python3"
  },
  "language_info": {
   "codemirror_mode": {
    "name": "ipython",
    "version": 3
   },
   "file_extension": ".py",
   "mimetype": "text/x-python",
   "name": "python",
   "nbconvert_exporter": "python",
   "pygments_lexer": "ipython3",
   "version": "3.11.8"
  }
 },
 "nbformat": 4,
 "nbformat_minor": 5
}
