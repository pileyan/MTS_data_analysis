{
 "cells": [
  {
   "cell_type": "markdown",
   "metadata": {},
   "source": [
    "Центр непрерывного образования\n",
    "\n",
    "# Условный оператор, цикл while"
   ]
  },
  {
   "cell_type": "code",
   "execution_count": 14,
   "metadata": {},
   "outputs": [],
   "source": [
    "import copy\n",
    "b = [[1,2,3],[2,3,4],[3,4,5]]\n",
    "a = copy.deepcopy(b)"
   ]
  },
  {
   "cell_type": "code",
   "execution_count": 15,
   "metadata": {},
   "outputs": [
    {
     "name": "stdout",
     "output_type": "stream",
     "text": [
      "[[4, 2, 3], [2, 3, 4], [3, 4, 5]] [[1, 2, 3], [2, 3, 4], [3, 4, 5]]\n"
     ]
    }
   ],
   "source": [
    "a[0][0] = 4\n",
    "print(a,b)"
   ]
  },
  {
   "cell_type": "code",
   "execution_count": 21,
   "metadata": {},
   "outputs": [
    {
     "data": {
      "text/plain": [
       "['3', '11', '22', '111']"
      ]
     },
     "execution_count": 21,
     "metadata": {},
     "output_type": "execute_result"
    }
   ],
   "source": [
    "sorted(['11','3','22','111'], key = int)"
   ]
  },
  {
   "cell_type": "markdown",
   "metadata": {},
   "source": [
    "# Условия"
   ]
  },
  {
   "cell_type": "markdown",
   "metadata": {},
   "source": [
    "Условия это, наверное, душа программирования. Мы очень часто хотим, чтобы наша программа работала по разному в зависимости от происходящего. Алгоритмы, использующие условия, называют разветвляющимися, и для их понимания очень удобно рисовать блок-схемы (нет, они не остались в школе, если в коде много условий и разных действий по-прежнему очень помогает нарисовать на бумаге дерево). \n",
    "\n",
    "**Условия (if)** позволяют выполнять код только в случае истинности какого-то логического выражения.\n",
    "\n",
    "Проще говоря, \"если верно, что..., то сделать ...\".\n",
    "\n",
    "Самый простой пример использования if - это вывод какой-то фразы по условию."
   ]
  },
  {
   "cell_type": "code",
   "execution_count": 2,
   "metadata": {},
   "outputs": [],
   "source": [
    "x = 0\n",
    "if x == 1:# Выражение равно True, это условие истинное\n",
    "    print('That is true!')  # Фраза выводится"
   ]
  },
  {
   "cell_type": "code",
   "execution_count": 3,
   "metadata": {},
   "outputs": [],
   "source": [
    "if x != 1:  # Выражение равно False, это условие ложное\n",
    "    print('That is true!')  # Фраза не выводится"
   ]
  },
  {
   "cell_type": "code",
   "execution_count": 9,
   "metadata": {},
   "outputs": [
    {
     "data": {
      "text/plain": [
       "13"
      ]
     },
     "execution_count": 9,
     "metadata": {},
     "output_type": "execute_result"
    }
   ],
   "source": [
    "3456780//60%24"
   ]
  },
  {
   "cell_type": "markdown",
   "metadata": {},
   "source": [
    "Обратите внимание, что код, который находится внутри условия, выделяется отступом в 4 пробела или табуляцией (работает не во всех IDE, но в Jupyter все будет хорошо).\n",
    "\n",
    "Иначе программа не поймет, что он относится к условию."
   ]
  },
  {
   "cell_type": "code",
   "execution_count": 3,
   "metadata": {},
   "outputs": [
    {
     "ename": "IndentationError",
     "evalue": "expected an indented block (<ipython-input-3-b1fb9bc19953>, line 2)",
     "output_type": "error",
     "traceback": [
      "\u001b[0;36m  File \u001b[0;32m\"<ipython-input-3-b1fb9bc19953>\"\u001b[0;36m, line \u001b[0;32m2\u001b[0m\n\u001b[0;31m    print('That is true!')\u001b[0m\n\u001b[0m    ^\u001b[0m\n\u001b[0;31mIndentationError\u001b[0m\u001b[0;31m:\u001b[0m expected an indented block\n"
     ]
    }
   ],
   "source": [
    "if x == 1:\n",
    "print('That is true!')"
   ]
  },
  {
   "cell_type": "markdown",
   "metadata": {},
   "source": [
    "А что делать, если в том случае, когда условие не истинное, мы тоже хотим совершать какое-то действие? Для этого у нас есть ключевое слово **else (\"то\")**. "
   ]
  },
  {
   "cell_type": "code",
   "execution_count": 7,
   "metadata": {},
   "outputs": [
    {
     "name": "stdout",
     "output_type": "stream",
     "text": [
      "That is false!\n"
     ]
    }
   ],
   "source": [
    "if x == 1:\n",
    "    print('That is true!')\n",
    "elif x == 2:\n",
    "    print('Smth')\n",
    "else:\n",
    "    print('That is false!')"
   ]
  },
  {
   "cell_type": "code",
   "execution_count": 8,
   "metadata": {},
   "outputs": [],
   "source": [
    "dct = {'a':2, 'b':456327}"
   ]
  },
  {
   "cell_type": "code",
   "execution_count": 9,
   "metadata": {},
   "outputs": [
    {
     "name": "stdout",
     "output_type": "stream",
     "text": [
      "yep\n"
     ]
    }
   ],
   "source": [
    "if 'a' in dct:\n",
    "    print('yep')"
   ]
  },
  {
   "cell_type": "markdown",
   "metadata": {},
   "source": [
    "Мы разобрались, как поступать, если у нас два варианта действий, но их может быть и больше.\n",
    "\n",
    "Для примера давайте решим простую задачу - найти минимум из двух введенных чисел. Пока ничего нового:"
   ]
  },
  {
   "cell_type": "code",
   "execution_count": 6,
   "metadata": {},
   "outputs": [
    {
     "name": "stdout",
     "output_type": "stream",
     "text": [
      "Введите первое число: 1\n",
      "Введите второе число: 123435\n",
      "Минимум равен 1\n"
     ]
    }
   ],
   "source": [
    "a = int(input('Введите первое число: '))\n",
    "b = int(input('Введите второе число: '))\n",
    "if a < b:\n",
    "    minimal = a\n",
    "else:\n",
    "    minimal = b\n",
    "print('Минимум равен', minimal)"
   ]
  },
  {
   "cell_type": "markdown",
   "metadata": {},
   "source": [
    "А теперь усложним задание, добавив третий вариант развития событий - если числа равны, будем печатать *'Равные числа'*.\n",
    "\n",
    "Можно решить эту задачу с помощью вложенных условий:"
   ]
  },
  {
   "cell_type": "code",
   "execution_count": 8,
   "metadata": {},
   "outputs": [
    {
     "name": "stdout",
     "output_type": "stream",
     "text": [
      "Введите первое число: 1\n",
      "Введите второе число: 124\n",
      "1\n"
     ]
    }
   ],
   "source": [
    "a = int(input('Введите первое число: '))\n",
    "b = int(input('Введите второе число: '))\n",
    "if a < b: \n",
    "    print(a)\n",
    "else:\n",
    "    if a > b: # обратите внимание, здесь одно условие находится внутри другого, и код ниже будет писаться после двойного отступа\n",
    "        print(b)\n",
    "    else:\n",
    "        print('Равные числа:', a)"
   ]
  },
  {
   "cell_type": "markdown",
   "metadata": {},
   "source": [
    "Неплохо, но можно упростить это решение с помощью конструкции **else if (или elif)**, которая позволяет в случае ложности условия сразу же написать еще одну проверку.\n",
    "\n",
    "Вот как будет выглядеть решение нашей задачи с помощью elif:"
   ]
  },
  {
   "cell_type": "code",
   "execution_count": 30,
   "metadata": {},
   "outputs": [
    {
     "name": "stdout",
     "output_type": "stream",
     "text": [
      "Введите первое число: 3\n",
      "Введите второе число: 3\n",
      "Равные числа: 3\n"
     ]
    }
   ],
   "source": [
    "a = int(input('Введите первое число: '))\n",
    "b = int(input('Введите второе число: '))\n",
    "if a < b: \n",
    "    print(a)\n",
    "elif a > b: \n",
    "    print(b)\n",
    "else:\n",
    "    print('Равные числа:', a)"
   ]
  },
  {
   "cell_type": "markdown",
   "metadata": {},
   "source": [
    "# Задачи для тренировки"
   ]
  },
  {
   "cell_type": "markdown",
   "metadata": {},
   "source": [
    "### Распродажа\n",
    "\n",
    "В магазине проходит акция:\n",
    "* На все товары дешевле 1000 рублей скидка 15%\n",
    "* На все товары >= 1000, но <= 5000 рублей скидка 20%\n",
    "* На все товары дороже 5000 рублей скидка 25%\n",
    "\n",
    "**Ввод**  \n",
    "Целое неотрицательное число - цена товара в рублях\n",
    "\n",
    "**Вывод**  \n",
    "Целое неотрицательное число - скидка на товар в рублях"
   ]
  },
  {
   "cell_type": "code",
   "execution_count": 9,
   "metadata": {},
   "outputs": [
    {
     "name": "stdout",
     "output_type": "stream",
     "text": [
      "2345678\n",
      "586419.5\n"
     ]
    }
   ],
   "source": [
    "# место для решения\n",
    "price = int(input())\n",
    "\n",
    "if price < 1000: \n",
    "    print(price*0.15)\n",
    "elif price <= 5000: \n",
    "    print(price*0.2)\n",
    "else:\n",
    "    print(price*0.25)"
   ]
  },
  {
   "cell_type": "code",
   "execution_count": 12,
   "metadata": {},
   "outputs": [
    {
     "name": "stdout",
     "output_type": "stream",
     "text": [
      "1\n",
      "2\n",
      "3\n",
      "5\n",
      "6\n",
      "7\n",
      "8\n"
     ]
    }
   ],
   "source": [
    "s = {1,2,3,5,6,7,8}\n",
    "\n",
    "while s != set():\n",
    "    print(s.pop())"
   ]
  },
  {
   "cell_type": "code",
   "execution_count": 11,
   "metadata": {},
   "outputs": [
    {
     "data": {
      "text/plain": [
       "{2, 3, 5, 6, 7, 8}"
      ]
     },
     "execution_count": 11,
     "metadata": {},
     "output_type": "execute_result"
    }
   ],
   "source": [
    "s"
   ]
  },
  {
   "cell_type": "code",
   "execution_count": null,
   "metadata": {},
   "outputs": [],
   "source": []
  },
  {
   "cell_type": "code",
   "execution_count": null,
   "metadata": {},
   "outputs": [],
   "source": []
  },
  {
   "cell_type": "markdown",
   "metadata": {},
   "source": [
    "# Цикл while"
   ]
  },
  {
   "cell_type": "markdown",
   "metadata": {},
   "source": [
    "Довольно часто задачи требуют от нас несколько раз выполнить однотипный код.\n",
    "\n",
    "Если писать несколько раз одни и те же строки, это загромождает программу. Иногда несколько раз превращается в много (100 или 10000).\n",
    "А иногда это число вообще зависит от параметров ввода.\n",
    "\n",
    "Справиться с этим помогают **циклы**. На этом семинаре мы поработаем с циклом **while (пока)**"
   ]
  },
  {
   "cell_type": "markdown",
   "metadata": {},
   "source": [
    "Прицип использования цикла while: записываем логическое выражение и некоторый код. Код будет выполняться до тех пор, пока логическое выражение верно.\n",
    "\n",
    "Например, давайте напечатаем все целые числа от 1 до 10."
   ]
  },
  {
   "cell_type": "code",
   "execution_count": 13,
   "metadata": {},
   "outputs": [
    {
     "name": "stdout",
     "output_type": "stream",
     "text": [
      "1\n",
      "2\n",
      "3\n",
      "4\n",
      "5\n",
      "6\n",
      "7\n",
      "8\n",
      "9\n",
      "10\n"
     ]
    }
   ],
   "source": [
    "i = 1 \n",
    "while i <= 10:\n",
    "    print(i) \n",
    "    i += 1 "
   ]
  },
  {
   "cell_type": "code",
   "execution_count": 33,
   "metadata": {},
   "outputs": [
    {
     "data": {
      "text/plain": [
       "11"
      ]
     },
     "execution_count": 33,
     "metadata": {},
     "output_type": "execute_result"
    }
   ],
   "source": [
    "i"
   ]
  },
  {
   "cell_type": "markdown",
   "metadata": {},
   "source": [
    "Здесь мы использовали запись i += 1. Она эквивалентна i = i + 1.  \n",
    "Аналогично можно записывать и другие арифметические операции: например, -="
   ]
  },
  {
   "cell_type": "markdown",
   "metadata": {},
   "source": [
    "Обратите внимание, что код внутри цикла (тот, который мы хотим повторно выполнять), выделяется отступом."
   ]
  },
  {
   "cell_type": "markdown",
   "metadata": {},
   "source": [
    "## Операторы break и continue."
   ]
  },
  {
   "cell_type": "markdown",
   "metadata": {},
   "source": [
    "Циклами можно управлять с помощью операторов **break**, **continue**."
   ]
  },
  {
   "cell_type": "markdown",
   "metadata": {},
   "source": [
    "**Break** внутри цикла позволяет прервать его выполнение и сразу же перейти к коду, который идет после цикла (либо завершить программу).  \n",
    "\n",
    "В этом случае мы можем написать сразу после цикла секцию **else** (синтаксис при этом такой же, как и в условиях).  \n",
    "Код, написанный после **else**, будет выполняться, если цикл завершился \"естественным путем\" (т.е. не был прерван с помощью break)."
   ]
  },
  {
   "cell_type": "markdown",
   "metadata": {},
   "source": [
    "### Задача\n",
    "\n",
    "Рассмотрим пример задачи, которую можно решить с использованием break. \n",
    "\n",
    "Пусть студент сдал 5 предметов во время сессии и мы хотим узнать, есть ли у него пересдачи\n",
    "\n",
    "**Формат ввода**  \n",
    "До пяти оценок от 1 до 10\n",
    "\n",
    "**Формат вывода**  \n",
    "Если хотя бы одна из оценок меньше 4, завершаем программу и печатаем 'YES' (пересдачи есть)  \n",
    "Если все пять оценок больше 3, печатаем 'NO' (студент закрыл сессию без пересдач)"
   ]
  },
  {
   "cell_type": "code",
   "execution_count": 15,
   "metadata": {},
   "outputs": [
    {
     "name": "stdout",
     "output_type": "stream",
     "text": [
      "Введите оценку: 8\n",
      "Введите оценку: 8\n",
      "Введите оценку: 8\n",
      "Введите оценку: 8\n",
      "Введите оценку: 8\n",
      "NO\n"
     ]
    }
   ],
   "source": [
    "i = 1\n",
    "while i <= 5:\n",
    "    note = int(input(\"Введите оценку: \"))\n",
    "    if note < 4:\n",
    "        print('YES')\n",
    "        break\n",
    "    i +=1\n",
    "else: # else находится на том же уровне отступа, что и while, поэтому относится именно к циклу, а не к условию внутри цикла\n",
    "    print ('NO')\n"
   ]
  },
  {
   "cell_type": "markdown",
   "metadata": {},
   "source": [
    "Оператор **continue** позволяет сразу же перейти на новую итерацию цикла, не выполняя код, который написан внутри цикла ниже его."
   ]
  },
  {
   "cell_type": "markdown",
   "metadata": {},
   "source": [
    "Изменим условие задачи - теперь будем считать количество пересдач у студента"
   ]
  },
  {
   "cell_type": "code",
   "execution_count": 40,
   "metadata": {},
   "outputs": [
    {
     "name": "stdout",
     "output_type": "stream",
     "text": [
      "Введите оценку: 2\n",
      "Введите оценку: 6\n",
      "Введите оценку: 2\n",
      "Введите оценку: 6\n",
      "Введите оценку: 8\n",
      "Итого пересдач: 2\n"
     ]
    }
   ],
   "source": [
    "i = 1\n",
    "retakes = 0\n",
    "while i <= 5:\n",
    "    note = int(input(\"Введите оценку: \"))\n",
    "    i += 1\n",
    "    if note >= 4: # если пересдачи нет, сразу же идем проверять переменную i, без увеличесния переменной retakes\n",
    "        continue\n",
    "    retakes += 1\n",
    "print(\"Итого пересдач:\", retakes)"
   ]
  },
  {
   "cell_type": "markdown",
   "metadata": {},
   "source": [
    "Операторами break и continue не стоит злоупотреблять, это может ухудшить читаемость кода.\n",
    "\n",
    "Например, в предыдущем примере мы бы справились и без continue:"
   ]
  },
  {
   "cell_type": "code",
   "execution_count": 35,
   "metadata": {},
   "outputs": [
    {
     "name": "stdout",
     "output_type": "stream",
     "text": [
      "Введите оценку: 5\n",
      "Введите оценку: 6\n",
      "Введите оценку: 7\n",
      "Введите оценку: 1\n",
      "Введите оценку: 7\n",
      "Итого пересдач: 1\n"
     ]
    }
   ],
   "source": [
    "i = 1\n",
    "retakes = 0\n",
    "while i <= 5:\n",
    "    note = int(input(\"Введите оценку: \"))\n",
    "    i += 1\n",
    "    if note < 4:\n",
    "        retakes += 1\n",
    "print(\"Итого пересдач:\", retakes)"
   ]
  },
  {
   "cell_type": "markdown",
   "metadata": {},
   "source": [
    "## (∩｀-´)⊃━☆ﾟ.*･｡ﾟ Задача\n",
    "Вася начал бегать и в первый день он пробежал X километров и выдохся. Вася поставил себе цель Y километров и решил узнать, когда он ее достигнет, если каждый день будет бегать дистанцию на 10% больше, чем в предыдущий.\n",
    "\n",
    "**Формат ввода**\n",
    "\n",
    "Программа получает на вход целые числа X, Y\n",
    "\n",
    "**Формат вывода**\n",
    "\n",
    "Одно целое число (день, когда Вася пробежит свою цель)\n",
    "\n",
    "**Примеры**  \n",
    "**Ввод:**  \n",
    "10  \n",
    "21\n",
    "\n",
    "**Вывод:**  \n",
    "8"
   ]
  },
  {
   "cell_type": "code",
   "execution_count": 16,
   "metadata": {},
   "outputs": [
    {
     "name": "stdout",
     "output_type": "stream",
     "text": [
      "5\n",
      "10\n",
      "days =  1\n",
      "5.5\n",
      "days =  2\n",
      "6.050000000000001\n",
      "days =  3\n",
      "6.655000000000001\n",
      "days =  4\n",
      "7.320500000000002\n",
      "days =  5\n",
      "8.052550000000002\n",
      "days =  6\n",
      "8.857805000000003\n",
      "days =  7\n",
      "9.743585500000004\n",
      "days =  8\n",
      "10.717944050000005\n"
     ]
    }
   ],
   "source": [
    "x = int(input())\n",
    "y = int(input())\n"
   ]
  },
  {
   "cell_type": "markdown",
   "metadata": {},
   "source": [
    "## (∩｀-´)⊃━☆ﾟ.*･｡ﾟ Задача\n",
    "\n",
    "## Cложные проценты\n",
    "Процентная ставка по вкладу составляет P процентов годовых, которые прибавляются к сумме вклада через год. Вклад составляет X рублей Y копеек. Дробное число копеек по истечении года отбрасывается. Выведите величину вклада через k лет в рублях/копейках\n",
    "\n",
    "**Формат ввода**\n",
    "\n",
    "Программа получает на вход целые числа P, X, Y, K.\n",
    "\n",
    "**Формат вывода**\n",
    "\n",
    "Программа должна вывести два числа: величину вклада через K лет в рублях и копейках. . Перерасчет суммы вклада (с отбрасыванием дробных частей копеек) происходит ежегодно.\n",
    "\n",
    "**Примеры**  \n",
    "Тест 1  \n",
    "**Входные данные:**  \n",
    "12  \n",
    "179  \n",
    "0  \n",
    "5  \n",
    "\n",
    "**Вывод программы:**  \n",
    "315 43\n",
    "\n",
    "Тест 2  \n",
    "**Входные данные:**  \n",
    "13  \n",
    "179  \n",
    "0  \n",
    "100  \n",
    "\n",
    "**Вывод программы:**   \n",
    "36360285 50\n",
    "\n",
    "Тест 3  \n",
    "**Входные данные:**   \n",
    "1  \n",
    "1  \n",
    "0  \n",
    "1000  \n",
    "\n",
    "**Вывод программы:**  \n",
    "11881 92"
   ]
  },
  {
   "cell_type": "code",
   "execution_count": 44,
   "metadata": {
    "scrolled": true
   },
   "outputs": [
    {
     "data": {
      "text/plain": [
       "1.0"
      ]
     },
     "execution_count": 44,
     "metadata": {},
     "output_type": "execute_result"
    }
   ],
   "source": [
    "1*1.0"
   ]
  },
  {
   "cell_type": "code",
   "execution_count": null,
   "metadata": {},
   "outputs": [],
   "source": []
  },
  {
   "cell_type": "code",
   "execution_count": 58,
   "metadata": {},
   "outputs": [
    {
     "name": "stdout",
     "output_type": "stream",
     "text": [
      "110000.26\n",
      "121000.28\n",
      "133100.3\n",
      "146410.33\n",
      "161051.36\n",
      "161051.36\n"
     ]
    }
   ],
   "source": [
    "# (∩｀-´)⊃━☆ﾟ.*･｡ﾟ\n",
    "\n",
    "p = 10\n",
    "x = 100000\n",
    "y = 24\n",
    "k = 5\n",
    "\n",
    "i = 0\n"
   ]
  },
  {
   "cell_type": "code",
   "execution_count": 50,
   "metadata": {},
   "outputs": [
    {
     "data": {
      "text/plain": [
       "1.24"
      ]
     },
     "execution_count": 50,
     "metadata": {},
     "output_type": "execute_result"
    }
   ],
   "source": [
    "round(1.2355,2)"
   ]
  },
  {
   "cell_type": "code",
   "execution_count": null,
   "metadata": {},
   "outputs": [],
   "source": []
  }
 ],
 "metadata": {
  "kernelspec": {
   "display_name": "Python 3",
   "language": "python",
   "name": "python3"
  },
  "language_info": {
   "codemirror_mode": {
    "name": "ipython",
    "version": 3
   },
   "file_extension": ".py",
   "mimetype": "text/x-python",
   "name": "python",
   "nbconvert_exporter": "python",
   "pygments_lexer": "ipython3",
   "version": "3.8.3"
  }
 },
 "nbformat": 4,
 "nbformat_minor": 2
}
