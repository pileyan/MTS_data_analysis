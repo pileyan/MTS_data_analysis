{
 "cells": [
  {
   "cell_type": "code",
   "execution_count": 1,
   "metadata": {},
   "outputs": [],
   "source": [
    "import numpy as np\n",
    "import pandas as pd\n",
    "import matplotlib.pyplot as plt\n",
    "from matplotlib import ticker\n",
    "%matplotlib inline"
   ]
  },
  {
   "cell_type": "markdown",
   "metadata": {},
   "source": [
    "## Helpers"
   ]
  },
  {
   "cell_type": "code",
   "execution_count": 2,
   "metadata": {},
   "outputs": [],
   "source": [
    "def plot_vectors(vectors=[(0, 0, 1, 2),(0, 0, 3, 1)], \n",
    "                 texts=[r'$\\vec{a}$', r'$\\vec{b}$', 'power vec', 'power vec2'], \n",
    "                 texts_locs=[(0.5, 0.7), (0.2, 0.8), (0.7, 0.5),  (0.5, 0.5)], text_size=18, \n",
    "                 colors=[\"#2EBCE7\",\"#00E64E\", \"purple\", 'orange'],   \n",
    "                 xlim=(-1, 3), ylim=(-1,3), x_label='x', y_label='y', \n",
    "                 scale=1, scale_units='xy'):\n",
    "    fig, ax =plt.subplots(figsize=(6,6))\n",
    "    ax.xaxis.set_major_locator(ticker.MultipleLocator(1))\n",
    "    ax.yaxis.set_major_locator(ticker.MultipleLocator(1))\n",
    "    \n",
    "    for i, vec in enumerate(vectors):\n",
    "        ax.quiver(*vec, color=colors[i], angles='xy', scale_units=scale_units, scale=scale)\n",
    "        plt.text(*texts_locs[i], texts[i], color=colors[i], size=text_size)\n",
    "\n",
    "    # draw axes\n",
    "    plt.axhline(0, c='#d6d6d6', zorder=0)\n",
    "    plt.axvline(0, c='#d6d6d6', zorder=0)\n",
    "\n",
    "    plt.xlim(*xlim)\n",
    "    plt.ylim(*ylim)\n",
    "    plt.xlabel(x_label)\n",
    "    plt.ylabel(y_label)\n",
    "    plt.show()\n",
    "    return ax"
   ]
  },
  {
   "cell_type": "markdown",
   "metadata": {},
   "source": [
    "## SVD methods, beer example"
   ]
  },
  {
   "cell_type": "markdown",
   "metadata": {},
   "source": [
    "#### Beer dataset"
   ]
  },
  {
   "cell_type": "markdown",
   "metadata": {},
   "source": [
    "Data is available from here: https://www.kaggle.com/dongeorge/beer-consumption-sao-paulo"
   ]
  },
  {
   "cell_type": "code",
   "execution_count": 33,
   "metadata": {},
   "outputs": [
    {
     "data": {
      "text/plain": [
       "(941, 7)"
      ]
     },
     "execution_count": 33,
     "metadata": {},
     "output_type": "execute_result"
    }
   ],
   "source": [
    "df=pd.read_csv('Consumo_cerveja.csv')\n",
    "df.shape"
   ]
  },
  {
   "cell_type": "code",
   "execution_count": 34,
   "metadata": {},
   "outputs": [],
   "source": [
    "df = df.dropna()"
   ]
  },
  {
   "cell_type": "code",
   "execution_count": 35,
   "metadata": {},
   "outputs": [],
   "source": [
    "df['Temperatura Maxima (C)'] = df['Temperatura Maxima (C)'].apply(lambda x: float(x.replace(',','.')))"
   ]
  },
  {
   "cell_type": "code",
   "execution_count": 31,
   "metadata": {},
   "outputs": [
    {
     "data": {
      "text/plain": [
       "dtype('O')"
      ]
     },
     "execution_count": 31,
     "metadata": {},
     "output_type": "execute_result"
    }
   ],
   "source": []
  },
  {
   "cell_type": "code",
   "execution_count": 36,
   "metadata": {},
   "outputs": [],
   "source": [
    "def plot_beer(x, y, x_label=\"Maximal temperature ($\\degree$C)\", y_label=\"Consuption (liters)\", \n",
    "              alpha=0.3, draw_axes=False):\n",
    "    plt.scatter(x, y, alpha=alpha)\n",
    "\n",
    "    plt.xlabel(x_label)\n",
    "    plt.ylabel(y_label)\n",
    "\n",
    "    # Assure that ticks are displayed with a specific step\n",
    "    ax = plt.gca()\n",
    "    ax.xaxis.set_major_locator(ticker.MultipleLocator(5))\n",
    "    ax.yaxis.set_major_locator(ticker.MultipleLocator(5))\n",
    "    \n",
    "    if draw_axes:\n",
    "        # draw axes\n",
    "        plt.axhline(0, c='#d6d6d6', zorder=0)\n",
    "        plt.axvline(0, c='#d6d6d6', zorder=0)\n",
    "\n",
    "    # assure x and y axis have the same scale\n",
    "    plt.axis('equal')\n",
    "    plt.show()"
   ]
  },
  {
   "cell_type": "code",
   "execution_count": null,
   "metadata": {},
   "outputs": [],
   "source": []
  },
  {
   "cell_type": "code",
   "execution_count": 37,
   "metadata": {},
   "outputs": [
    {
     "data": {
      "image/png": "[encoded data removed]",
      "text/plain": [
       "<Figure size 432x288 with 1 Axes>"
      ]
     },
     "metadata": {
      "needs_background": "light"
     },
     "output_type": "display_data"
    }
   ],
   "source": [
    "plot_beer(df['Temperatura Maxima (C)'],\n",
    "          df['Consumo de cerveja (litros)'])"
   ]
  },
  {
   "cell_type": "markdown",
   "metadata": {},
   "source": [
    "#### Make datasets"
   ]
  },
  {
   "cell_type": "code",
   "execution_count": 38,
   "metadata": {},
   "outputs": [],
   "source": [
    "X = np.array([df['Temperatura Maxima (C)'],\n",
    "              df['Consumo de cerveja (litros)']]).T"
   ]
  },
  {
   "cell_type": "markdown",
   "metadata": {},
   "source": [
    "#### Covariance matrix"
   ]
  },
  {
   "cell_type": "code",
   "execution_count": 39,
   "metadata": {},
   "outputs": [
    {
     "data": {
      "text/plain": [
       "array([[18.63964745, 12.20609082],\n",
       "       [12.20609082, 19.35245652]])"
      ]
     },
     "execution_count": 39,
     "metadata": {},
     "output_type": "execute_result"
    }
   ],
   "source": [
    "C = np.cov(X, rowvar=False)\n",
    "C"
   ]
  },
  {
   "cell_type": "code",
   "execution_count": 40,
   "metadata": {},
   "outputs": [],
   "source": [
    "#for easier plotting calculate mean centered data\n",
    "X_norm=X.copy()\n",
    "X_norm -= X.mean(axis=0)"
   ]
  },
  {
   "cell_type": "markdown",
   "metadata": {},
   "source": [
    "## Version 1  - power iteration"
   ]
  },
  {
   "cell_type": "code",
   "execution_count": 41,
   "metadata": {},
   "outputs": [],
   "source": [
    "#source http://mlwiki.org/index.php/Power_Iteration\n",
    "def eigenvalue(A, v):\n",
    "    val = A @ v / v\n",
    "    return val[0]\n",
    "\n",
    "def svd_power_iteration(A):\n",
    "    n, d = A.shape\n",
    "\n",
    "    v = np.ones(d) / np.sqrt(d)\n",
    "    ev = eigenvalue(A, v)\n",
    "\n",
    "    while True:\n",
    "        Av = A @ v\n",
    "        v_new = Av / np.linalg.norm(Av)\n",
    "        ev_new = eigenvalue(A, v_new)\n",
    "        if np.abs(ev - ev_new) < 0.01:\n",
    "            break\n",
    "\n",
    "        v = v_new\n",
    "        ev = ev_new\n",
    "\n",
    "    return ev_new, v_new"
   ]
  },
  {
   "cell_type": "code",
   "execution_count": 42,
   "metadata": {},
   "outputs": [
    {
     "data": {
      "text/plain": [
       "31.206525014487084"
      ]
     },
     "execution_count": 42,
     "metadata": {},
     "output_type": "execute_result"
    }
   ],
   "source": [
    "eigen_value, eigen_vec = svd_power_iteration(C)\n",
    "eigen_value"
   ]
  },
  {
   "cell_type": "code",
   "execution_count": 43,
   "metadata": {},
   "outputs": [
    {
     "data": {
      "text/plain": [
       "array([0.69673479, 0.71732882])"
      ]
     },
     "execution_count": 43,
     "metadata": {},
     "output_type": "execute_result"
    }
   ],
   "source": [
    "eigen_vec"
   ]
  },
  {
   "cell_type": "code",
   "execution_count": 44,
   "metadata": {},
   "outputs": [],
   "source": [
    "#compare to numpy implementation\n",
    "u, s, v=np.linalg.svd(C, 1)"
   ]
  },
  {
   "cell_type": "code",
   "execution_count": 13,
   "metadata": {},
   "outputs": [
    {
     "data": {
      "text/plain": [
       "array([[-0.69671139, -0.71735154],\n",
       "       [-0.71735154,  0.69671139]])"
      ]
     },
     "execution_count": 13,
     "metadata": {},
     "output_type": "execute_result"
    }
   ],
   "source": [
    "u # first eigenvector matches, we can ignore the signs as they are still same eigenvector"
   ]
  },
  {
   "cell_type": "code",
   "execution_count": 14,
   "metadata": {},
   "outputs": [
    {
     "data": {
      "text/plain": [
       "array([31.20734501,  6.78475896])"
      ]
     },
     "execution_count": 14,
     "metadata": {},
     "output_type": "execute_result"
    }
   ],
   "source": [
    "s #numpy has second eigenvalue also"
   ]
  },
  {
   "cell_type": "code",
   "execution_count": 45,
   "metadata": {},
   "outputs": [
    {
     "data": {
      "text/plain": [
       "array([[-0.69671139, -0.71735154],\n",
       "       [-0.71735154,  0.69671139]])"
      ]
     },
     "execution_count": 45,
     "metadata": {},
     "output_type": "execute_result"
    }
   ],
   "source": [
    "v"
   ]
  },
  {
   "cell_type": "code",
   "execution_count": 46,
   "metadata": {},
   "outputs": [
    {
     "data": {
      "image/png": "[encoded data removed]",
      "text/plain": [
       "<Figure size 432x288 with 1 Axes>"
      ]
     },
     "metadata": {
      "needs_background": "light"
     },
     "output_type": "display_data"
    }
   ],
   "source": [
    "#lets plot dominant eigenvector\n",
    "def plot_eigenvectors(eigen_vecs, eigen_values, colors=[\"#FF8177\", \"orange\"]):\n",
    "    for i, eigen_vec in enumerate(eigen_vecs):\n",
    "        plt.quiver(0, 0,\n",
    "           2 * np.sqrt(eigen_values[i]) * eigen_vec[0], 2 * np.sqrt(eigen_values[i]) * eigen_vec[1],\n",
    "           color=colors[i], angles=\"xy\", scale_units=\"xy\", scale=1,\n",
    "           zorder=2, width=0.011)\n",
    "\n",
    "plot_eigenvectors([eigen_vec], [eigen_value], colors=[\"#FF8177\", \"orange\"])\n",
    "plot_beer(X_norm[:, 0], X_norm[:, 1], draw_axes=True)"
   ]
  },
  {
   "cell_type": "markdown",
   "metadata": {},
   "source": [
    "## Version 2  - svd for n singular values"
   ]
  },
  {
   "cell_type": "code",
   "execution_count": 47,
   "metadata": {},
   "outputs": [],
   "source": [
    "#https://jeremykun.com/2016/05/16/singular-value-decomposition-part-2-theorem-proof-algorithm/\n",
    "#https://github.com/j2kun/svd/blob/main/svd.py\n",
    "def eigenvalue(A, v):\n",
    "    val = A @ v / v\n",
    "    return val[0]\n",
    "\n",
    "def svd_dominant_eigen(A, epsilon=0.01):\n",
    "    \"\"\"returns dominant eigenvalue and dominant eigenvector of matrix A\"\"\"\n",
    "    n, m = A.shape\n",
    "    k=min(n,m)\n",
    "    v = np.ones(k) / np.sqrt(k)\n",
    "    if n > m:\n",
    "        A = A.T @ A\n",
    "    elif n < m:\n",
    "        A = A @ A.T\n",
    "    \n",
    "    ev = eigenvalue(A, v)\n",
    "\n",
    "    while True:\n",
    "        Av = A@ v\n",
    "        v_new = Av / np.linalg.norm(Av)\n",
    "        ev_new = eigenvalue(A, v_new)\n",
    "        if np.abs(ev - ev_new) < epsilon:\n",
    "            break\n",
    "\n",
    "        v = v_new\n",
    "        ev = ev_new\n",
    "\n",
    "    return ev_new, v_new\n",
    "\n",
    "def svd(A, k=None, epsilon=1e-10):\n",
    "    \"\"\"returns k dominant eigenvalues and eigenvectors of matrix A\"\"\"\n",
    "    A = np.array(A, dtype=float)\n",
    "    n, m = A.shape\n",
    "        \n",
    "    svd_so_far = []\n",
    "    if k is None:\n",
    "        k = min(n, m)\n",
    "\n",
    "    for i in range(k):\n",
    "        matrix_for_1d = A.copy()\n",
    "\n",
    "        for singular_value, u, v in svd_so_far[:i]:\n",
    "            matrix_for_1d -= singular_value * np.outer(u, v)\n",
    "\n",
    "        if n > m:\n",
    "            _, v = svd_dominant_eigen(matrix_for_1d, epsilon=epsilon)  # next singular vector\n",
    "            u_unnormalized = A @ v\n",
    "            sigma = np.linalg.norm(u_unnormalized)  # next singular value\n",
    "            u = u_unnormalized / sigma\n",
    "        else:\n",
    "            _, u = svd_dominant_eigen(matrix_for_1d, epsilon=epsilon)  # next singular vector\n",
    "            v_unnormalized = A.T @ u\n",
    "            sigma = np.linalg.norm(v_unnormalized)  # next singular value\n",
    "            v = v_unnormalized / sigma\n",
    "\n",
    "        svd_so_far.append((sigma, u, v))\n",
    "\n",
    "    singular_values, us, vs = [np.array(x) for x in zip(*svd_so_far)]\n",
    "    return singular_values, us.T, vs"
   ]
  },
  {
   "cell_type": "code",
   "execution_count": 48,
   "metadata": {},
   "outputs": [],
   "source": [
    "eigen_values, eigen_vecs, _ = svd(C)"
   ]
  },
  {
   "cell_type": "code",
   "execution_count": 49,
   "metadata": {},
   "outputs": [
    {
     "data": {
      "text/plain": [
       "array([31.20734501,  6.78475896])"
      ]
     },
     "execution_count": 49,
     "metadata": {},
     "output_type": "execute_result"
    }
   ],
   "source": [
    "eigen_values"
   ]
  },
  {
   "cell_type": "code",
   "execution_count": 50,
   "metadata": {},
   "outputs": [
    {
     "data": {
      "text/plain": [
       "array([[ 0.69671139,  0.71735154],\n",
       "       [ 0.71735154, -0.69671139]])"
      ]
     },
     "execution_count": 50,
     "metadata": {},
     "output_type": "execute_result"
    }
   ],
   "source": [
    "eigen_vecs"
   ]
  },
  {
   "cell_type": "code",
   "execution_count": 51,
   "metadata": {},
   "outputs": [
    {
     "data": {
      "image/png": "[encoded data removed]",
      "text/plain": [
       "<Figure size 432x288 with 1 Axes>"
      ]
     },
     "metadata": {
      "needs_background": "light"
     },
     "output_type": "display_data"
    }
   ],
   "source": [
    "plot_eigenvectors(eigen_vecs, eigen_values, colors=[\"#FF8177\", \"orange\"])\n",
    "plot_beer(X_norm[:, 0], X_norm[:, 1], draw_axes=True)"
   ]
  },
  {
   "cell_type": "code",
   "execution_count": 22,
   "metadata": {},
   "outputs": [
    {
     "data": {
      "text/plain": [
       "array([[1, 2, 3],\n",
       "       [4, 5, 6]])"
      ]
     },
     "execution_count": 22,
     "metadata": {},
     "output_type": "execute_result"
    }
   ],
   "source": [
    "#more columns than rows\n",
    "mat=np.array([[1,2,3],\n",
    "            [4,5,6]])\n",
    "mat"
   ]
  },
  {
   "cell_type": "code",
   "execution_count": 23,
   "metadata": {},
   "outputs": [],
   "source": [
    "u, s, v=np.linalg.svd(mat, full_matrices=False)"
   ]
  },
  {
   "cell_type": "code",
   "execution_count": 24,
   "metadata": {},
   "outputs": [],
   "source": [
    "values, left_s, rigth_s=svd(mat)"
   ]
  },
  {
   "cell_type": "code",
   "execution_count": 25,
   "metadata": {},
   "outputs": [
    {
     "data": {
      "text/plain": [
       "array([[-0.3863177 , -0.92236578],\n",
       "       [-0.92236578,  0.3863177 ]])"
      ]
     },
     "execution_count": 25,
     "metadata": {},
     "output_type": "execute_result"
    }
   ],
   "source": [
    "u"
   ]
  },
  {
   "cell_type": "code",
   "execution_count": 26,
   "metadata": {},
   "outputs": [
    {
     "data": {
      "text/plain": [
       "array([[ 0.3863177 ,  0.92236578],\n",
       "       [ 0.92236578, -0.3863177 ]])"
      ]
     },
     "execution_count": 26,
     "metadata": {},
     "output_type": "execute_result"
    }
   ],
   "source": [
    "left_s"
   ]
  },
  {
   "cell_type": "code",
   "execution_count": 27,
   "metadata": {},
   "outputs": [
    {
     "data": {
      "text/plain": [
       "True"
      ]
     },
     "execution_count": 27,
     "metadata": {},
     "output_type": "execute_result"
    }
   ],
   "source": [
    "np.allclose(np.absolute(u), np.absolute(left_s))"
   ]
  },
  {
   "cell_type": "code",
   "execution_count": 28,
   "metadata": {},
   "outputs": [
    {
     "data": {
      "text/plain": [
       "True"
      ]
     },
     "execution_count": 28,
     "metadata": {},
     "output_type": "execute_result"
    }
   ],
   "source": [
    "np.allclose(s, values)"
   ]
  },
  {
   "cell_type": "code",
   "execution_count": 29,
   "metadata": {},
   "outputs": [
    {
     "data": {
      "text/plain": [
       "True"
      ]
     },
     "execution_count": 29,
     "metadata": {},
     "output_type": "execute_result"
    }
   ],
   "source": [
    "np.allclose(np.absolute(v), np.absolute(rigth_s))"
   ]
  },
  {
   "cell_type": "code",
   "execution_count": 30,
   "metadata": {},
   "outputs": [
    {
     "data": {
      "text/plain": [
       "array([[1, 2, 3],\n",
       "       [4, 5, 6],\n",
       "       [6, 1, 9],\n",
       "       [3, 2, 3]])"
      ]
     },
     "execution_count": 30,
     "metadata": {},
     "output_type": "execute_result"
    }
   ],
   "source": [
    "#more rows than columns\n",
    "mat2=np.array([[1,2,3],\n",
    "            [4,5,6],\n",
    "              [6,1,9],\n",
    "              [3,2,3]])\n",
    "mat2"
   ]
  },
  {
   "cell_type": "code",
   "execution_count": 31,
   "metadata": {},
   "outputs": [],
   "source": [
    "u_mat2, s_mat2, v_mat2 = np.linalg.svd(mat2, full_matrices=False)"
   ]
  },
  {
   "cell_type": "code",
   "execution_count": 32,
   "metadata": {},
   "outputs": [],
   "source": [
    "values_mat2, left_s_mat2, right_s_mat2=svd(mat2)"
   ]
  },
  {
   "cell_type": "code",
   "execution_count": 33,
   "metadata": {},
   "outputs": [
    {
     "data": {
      "text/plain": [
       "True"
      ]
     },
     "execution_count": 33,
     "metadata": {},
     "output_type": "execute_result"
    }
   ],
   "source": [
    "np.allclose(np.absolute(u_mat2), np.absolute(left_s_mat2))"
   ]
  },
  {
   "cell_type": "code",
   "execution_count": 34,
   "metadata": {},
   "outputs": [
    {
     "data": {
      "text/plain": [
       "True"
      ]
     },
     "execution_count": 34,
     "metadata": {},
     "output_type": "execute_result"
    }
   ],
   "source": [
    "np.allclose(s_mat2, values_mat2)"
   ]
  },
  {
   "cell_type": "code",
   "execution_count": 35,
   "metadata": {},
   "outputs": [
    {
     "data": {
      "text/plain": [
       "True"
      ]
     },
     "execution_count": 35,
     "metadata": {},
     "output_type": "execute_result"
    }
   ],
   "source": [
    "np.allclose(np.absolute(v_mat2), np.absolute(right_s_mat2))"
   ]
  },
  {
   "cell_type": "markdown",
   "metadata": {},
   "source": [
    "## Simultaneous power iteration /Orthogonal Iteration / block version of the Power Method"
   ]
  },
  {
   "cell_type": "code",
   "execution_count": 36,
   "metadata": {},
   "outputs": [],
   "source": [
    "def svd_simultaneous_power_iteration(A, k, epsilon=0.00001):\n",
    "    #source http://mlwiki.org/index.php/Power_Iteration\n",
    "    #adjusted to work with n<m and n>m matrices\n",
    "    n_orig, m_orig = A.shape\n",
    "    if k is None:\n",
    "        k=min(n_orig,m_orig)\n",
    "        \n",
    "    A_orig=A.copy()\n",
    "    if n_orig > m_orig:\n",
    "        A = A.T @ A\n",
    "        n, m = A.shape\n",
    "    elif n_orig < m_orig:\n",
    "        A = A @ A.T\n",
    "        n, m = A.shape\n",
    "    else:\n",
    "        n,m=n_orig, m_orig\n",
    "        \n",
    "    Q = np.random.rand(n, k)\n",
    "    Q, _ = np.linalg.qr(Q)\n",
    "    Q_prev = Q\n",
    " \n",
    "    for i in range(1000):\n",
    "        Z = A @ Q\n",
    "        Q, R = np.linalg.qr(Z)\n",
    "        # can use other stopping criteria as well \n",
    "        err = ((Q - Q_prev) ** 2).sum()\n",
    "        Q_prev = Q\n",
    "        if err < epsilon:\n",
    "            break\n",
    "            \n",
    "    singular_values=np.sqrt(np.diag(R))    \n",
    "    if n_orig < m_orig: \n",
    "        left_vecs=Q.T\n",
    "        #use property Values @ V = U.T@A => V=inv(Values)@U.T@A\n",
    "        right_vecs=np.linalg.inv(np.diag(singular_values))@left_vecs.T@A_orig\n",
    "    elif n_orig==m_orig:\n",
    "        left_vecs=Q.T\n",
    "        right_vecs=left_vecs\n",
    "        singular_values=np.square(singular_values)\n",
    "    else:\n",
    "        right_vecs=Q.T\n",
    "        #use property Values @ V = U.T@A => U=A@V@inv(Values)\n",
    "        left_vecs=A_orig@ right_vecs.T @np.linalg.inv(np.diag(singular_values))\n",
    "\n",
    "    return left_vecs, singular_values, right_vecs"
   ]
  },
  {
   "cell_type": "code",
   "execution_count": 37,
   "metadata": {},
   "outputs": [],
   "source": [
    "left_vecs, singular_values, right_vecs = svd_simultaneous_power_iteration(C, 2)"
   ]
  },
  {
   "cell_type": "code",
   "execution_count": 38,
   "metadata": {},
   "outputs": [
    {
     "data": {
      "text/plain": [
       "array([31.20730124,  6.78476848])"
      ]
     },
     "execution_count": 38,
     "metadata": {},
     "output_type": "execute_result"
    }
   ],
   "source": [
    "singular_values"
   ]
  },
  {
   "cell_type": "code",
   "execution_count": 39,
   "metadata": {},
   "outputs": [
    {
     "data": {
      "text/plain": [
       "array([[-0.69644374, -0.71761139],\n",
       "       [-0.71761139,  0.69644374]])"
      ]
     },
     "execution_count": 39,
     "metadata": {},
     "output_type": "execute_result"
    }
   ],
   "source": [
    "left_vecs"
   ]
  },
  {
   "cell_type": "code",
   "execution_count": 40,
   "metadata": {},
   "outputs": [
    {
     "data": {
      "text/plain": [
       "array([[-0.69644374, -0.71761139],\n",
       "       [-0.71761139,  0.69644374]])"
      ]
     },
     "execution_count": 40,
     "metadata": {},
     "output_type": "execute_result"
    }
   ],
   "source": [
    "right_vecs"
   ]
  },
  {
   "cell_type": "code",
   "execution_count": 41,
   "metadata": {},
   "outputs": [
    {
     "data": {
      "image/png": "[encoded data removed]",
      "text/plain": [
       "<Figure size 432x288 with 1 Axes>"
      ]
     },
     "metadata": {
      "needs_background": "light"
     },
     "output_type": "display_data"
    }
   ],
   "source": [
    "plot_eigenvectors(left_vecs, singular_values, colors=[\"#FF8177\", \"orange\"])\n",
    "plot_beer(X_norm[:, 0], X_norm[:, 1], draw_axes=True)"
   ]
  },
  {
   "cell_type": "code",
   "execution_count": 42,
   "metadata": {},
   "outputs": [
    {
     "data": {
      "text/plain": [
       "True"
      ]
     },
     "execution_count": 42,
     "metadata": {},
     "output_type": "execute_result"
    }
   ],
   "source": [
    "u, s,v = np.linalg.svd(C)\n",
    "np.allclose(np.absolute(left_vecs), np.absolute(u), atol=0.01)"
   ]
  },
  {
   "cell_type": "code",
   "execution_count": 43,
   "metadata": {},
   "outputs": [
    {
     "data": {
      "text/plain": [
       "True"
      ]
     },
     "execution_count": 43,
     "metadata": {},
     "output_type": "execute_result"
    }
   ],
   "source": [
    "np.allclose(np.absolute(right_vecs), np.absolute(v), atol=0.01)"
   ]
  },
  {
   "cell_type": "code",
   "execution_count": 44,
   "metadata": {},
   "outputs": [
    {
     "data": {
      "text/plain": [
       "True"
      ]
     },
     "execution_count": 44,
     "metadata": {},
     "output_type": "execute_result"
    }
   ],
   "source": [
    "np.allclose(singular_values, s, atol=0.01)"
   ]
  },
  {
   "cell_type": "code",
   "execution_count": 45,
   "metadata": {},
   "outputs": [],
   "source": [
    "# matrix which has more columns than rows\n",
    "left_mat, values_mat, right_mat=svd_simultaneous_power_iteration(mat, 2)"
   ]
  },
  {
   "cell_type": "code",
   "execution_count": 46,
   "metadata": {},
   "outputs": [],
   "source": [
    "u, s, v =np.linalg.svd(mat, full_matrices=False)"
   ]
  },
  {
   "cell_type": "code",
   "execution_count": 47,
   "metadata": {},
   "outputs": [
    {
     "data": {
      "text/plain": [
       "True"
      ]
     },
     "execution_count": 47,
     "metadata": {},
     "output_type": "execute_result"
    }
   ],
   "source": [
    "np.allclose(np.absolute(left_mat), np.absolute(u), atol=0.01)"
   ]
  },
  {
   "cell_type": "code",
   "execution_count": 48,
   "metadata": {},
   "outputs": [
    {
     "data": {
      "text/plain": [
       "True"
      ]
     },
     "execution_count": 48,
     "metadata": {},
     "output_type": "execute_result"
    }
   ],
   "source": [
    "np.allclose(np.absolute(right_mat), np.absolute(v), atol=0.01)"
   ]
  },
  {
   "cell_type": "code",
   "execution_count": 49,
   "metadata": {},
   "outputs": [
    {
     "data": {
      "text/plain": [
       "True"
      ]
     },
     "execution_count": 49,
     "metadata": {},
     "output_type": "execute_result"
    }
   ],
   "source": [
    "np.allclose(values_mat, s, atol=0.01)"
   ]
  },
  {
   "cell_type": "code",
   "execution_count": 50,
   "metadata": {},
   "outputs": [],
   "source": [
    "# matrix which has more rows than columns"
   ]
  },
  {
   "cell_type": "code",
   "execution_count": 51,
   "metadata": {},
   "outputs": [],
   "source": [
    "left_mat2, values_mat2,right_mat2=svd_simultaneous_power_iteration(mat2, 3)\n",
    "u, s, v =np.linalg.svd(mat2, full_matrices=False)"
   ]
  },
  {
   "cell_type": "code",
   "execution_count": 52,
   "metadata": {},
   "outputs": [
    {
     "data": {
      "text/plain": [
       "True"
      ]
     },
     "execution_count": 52,
     "metadata": {},
     "output_type": "execute_result"
    }
   ],
   "source": [
    "np.allclose(np.absolute(left_mat2), np.absolute(u), atol=0.01)"
   ]
  },
  {
   "cell_type": "code",
   "execution_count": 53,
   "metadata": {},
   "outputs": [
    {
     "data": {
      "text/plain": [
       "True"
      ]
     },
     "execution_count": 53,
     "metadata": {},
     "output_type": "execute_result"
    }
   ],
   "source": [
    "np.allclose(np.absolute(right_mat2), np.absolute(v), atol=0.01)"
   ]
  },
  {
   "cell_type": "code",
   "execution_count": 54,
   "metadata": {},
   "outputs": [
    {
     "data": {
      "text/plain": [
       "True"
      ]
     },
     "execution_count": 54,
     "metadata": {},
     "output_type": "execute_result"
    }
   ],
   "source": [
    "np.allclose(values_mat2, s, atol=0.01)"
   ]
  },
  {
   "cell_type": "code",
   "execution_count": null,
   "metadata": {},
   "outputs": [],
   "source": []
  }
 ],
 "metadata": {
  "kernelspec": {
   "display_name": "Python 3",
   "language": "python",
   "name": "python3"
  },
  "language_info": {
   "codemirror_mode": {
    "name": "ipython",
    "version": 3
   },
   "file_extension": ".py",
   "mimetype": "text/x-python",
   "name": "python",
   "nbconvert_exporter": "python",
   "pygments_lexer": "ipython3",
   "version": "3.8.3"
  }
 },
 "nbformat": 4,
 "nbformat_minor": 2
}
