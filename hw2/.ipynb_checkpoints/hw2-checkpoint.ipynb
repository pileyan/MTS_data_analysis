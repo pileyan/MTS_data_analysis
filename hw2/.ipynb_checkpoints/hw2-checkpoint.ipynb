{
 "cells": [
  {
   "cell_type": "markdown",
   "id": "2c98dc28",
   "metadata": {},
   "source": [
    "# Задача 1\n",
    "\n",
    "Оцените скорость сходимости среднего по выборке из логнормального распределения к нормальному распределению (как предписывает ЦПТ) в зависимости от:\n",
    "\n",
    "1. Размера выборки\n",
    "2. Параметров логнормального распределения\n"
   ]
  },
  {
   "cell_type": "code",
   "execution_count": null,
   "id": "3fbae2dc",
   "metadata": {},
   "outputs": [],
   "source": []
  },
  {
   "cell_type": "markdown",
   "id": "9373af4f",
   "metadata": {},
   "source": [
    "# Задача 2\n",
    "\n",
    "Возьмите [данные](https://www.kaggle.com/datasets/mkechinov/ecommerce-events-history-in-cosmetics-shop) с Kaggle и оцените равномерность разбиения их на группы (для будущего АБ-теста) с помощью различных видов хеширования:\n",
    "\n",
    "1. md5\n",
    "2. sha256\n",
    "3. Улучшится ли равномерность, если вместо одинарного использования md5 применить [вот такую](https://towardsdatascience.com/assign-experiment-variants-at-scale-in-a-b-tests-e80fedb2779d) двухуровневую процедуру с тем же md5, проверить на тех же данных"
   ]
  },
  {
   "cell_type": "code",
   "execution_count": null,
   "id": "dda337db",
   "metadata": {},
   "outputs": [],
   "source": []
  },
  {
   "cell_type": "markdown",
   "id": "bb09ee84",
   "metadata": {},
   "source": [
    "# Задача 3\n",
    "\n",
    "Напишите функцию для оценки доверительного интервала для параметра в выборке с помощью Пуассоновского бутстрепа.\n",
    "Функция должна принимать на вход выборку и агрегационную функцию, с помощью которой будет вычисляться статистика по выборке, например:\n",
    "\n",
    "    PoissonBootstrap(sample, np.median)\n",
    "    \n",
    "или\n",
    "    \n",
    "    PoissonBootstrap(sample, lambda x: np.median(x)/np.mean(x))\n",
    "    \n",
    "    "
   ]
  },
  {
   "cell_type": "code",
   "execution_count": null,
   "id": "fc536b93",
   "metadata": {},
   "outputs": [],
   "source": []
  },
  {
   "cell_type": "markdown",
   "id": "0f9c5859",
   "metadata": {},
   "source": [
    "# Задача 4\n",
    "\n",
    "C помощью численного эксперимента показать, что t-тест над рангами в некотором смысле эквивалентен тесту Манна-Уитни.\n",
    "В качестве пояснения можете использовать материал [Линделёва](https://lindeloev.github.io/tests-as-linear/)"
   ]
  },
  {
   "cell_type": "code",
   "execution_count": null,
   "id": "3111e41a",
   "metadata": {},
   "outputs": [],
   "source": []
  }
 ],
 "metadata": {
  "kernelspec": {
   "display_name": "Python 3 (ipykernel)",
   "language": "python",
   "name": "python3"
  },
  "language_info": {
   "codemirror_mode": {
    "name": "ipython",
    "version": 3
   },
   "file_extension": ".py",
   "mimetype": "text/x-python",
   "name": "python",
   "nbconvert_exporter": "python",
   "pygments_lexer": "ipython3",
   "version": "3.11.8"
  }
 },
 "nbformat": 4,
 "nbformat_minor": 5
}
